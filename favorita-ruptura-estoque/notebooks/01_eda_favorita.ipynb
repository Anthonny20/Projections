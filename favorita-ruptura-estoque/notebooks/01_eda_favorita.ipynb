{
 "cells": [
  {
   "cell_type": "markdown",
   "id": "f65aa9c9",
   "metadata": {},
   "source": [
    "Vamos começar com a análise exploratória do dataset Favorita(a famosa EDA - Exploratory Data Analysis). \n",
    "\n",
    "Este notebook vai conter:\n",
    "\n",
    "Dados Utilizados (do Kaggle)\n",
    "\n",
    "    - train.csv -- vendas por loja/produto/dia\n",
    "    - stores.csv -- dados das lojas\n",
    "    - items.csv -- dados dos produtos\n",
    "    - oil.csv -- preço do petróleo(usado como variável macroeconômica)\n",
    "    - holidays_events.csv -- feriados e eventos\n",
    "    - transactions -- número de transações por loja/dia\n",
    "    - test.csc -- dados para prever"
   ]
  },
  {
   "cell_type": "markdown",
   "id": "762648b5",
   "metadata": {},
   "source": []
  },
  {
   "cell_type": "markdown",
   "id": "dfa4d923",
   "metadata": {},
   "source": []
  }
 ],
 "metadata": {
  "language_info": {
   "name": "python"
  }
 },
 "nbformat": 4,
 "nbformat_minor": 5
}
